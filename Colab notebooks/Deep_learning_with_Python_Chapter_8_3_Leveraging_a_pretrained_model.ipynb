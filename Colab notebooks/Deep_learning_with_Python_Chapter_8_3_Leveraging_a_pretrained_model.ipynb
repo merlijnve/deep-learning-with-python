{
  "nbformat": 4,
  "nbformat_minor": 0,
  "metadata": {
    "colab": {
      "provenance": [],
      "gpuType": "T4"
    },
    "kernelspec": {
      "name": "python3",
      "display_name": "Python 3"
    },
    "language_info": {
      "name": "python"
    },
    "accelerator": "GPU"
  },
  "cells": [
    {
      "cell_type": "code",
      "execution_count": null,
      "metadata": {
        "colab": {
          "base_uri": "https://localhost:8080/",
          "height": 92
        },
        "id": "9rN0E10-iHaB",
        "outputId": "f239208c-e586-41cf-d6a9-b9ee4c8041da"
      },
      "outputs": [
        {
          "output_type": "display_data",
          "data": {
            "text/plain": [
              "<IPython.core.display.HTML object>"
            ],
            "text/html": [
              "\n",
              "     <input type=\"file\" id=\"files-2f293cd2-4432-4a04-889a-390c3ed37210\" name=\"files[]\" multiple disabled\n",
              "        style=\"border:none\" />\n",
              "     <output id=\"result-2f293cd2-4432-4a04-889a-390c3ed37210\">\n",
              "      Upload widget is only available when the cell has been executed in the\n",
              "      current browser session. Please rerun this cell to enable.\n",
              "      </output>\n",
              "      <script>// Copyright 2017 Google LLC\n",
              "//\n",
              "// Licensed under the Apache License, Version 2.0 (the \"License\");\n",
              "// you may not use this file except in compliance with the License.\n",
              "// You may obtain a copy of the License at\n",
              "//\n",
              "//      http://www.apache.org/licenses/LICENSE-2.0\n",
              "//\n",
              "// Unless required by applicable law or agreed to in writing, software\n",
              "// distributed under the License is distributed on an \"AS IS\" BASIS,\n",
              "// WITHOUT WARRANTIES OR CONDITIONS OF ANY KIND, either express or implied.\n",
              "// See the License for the specific language governing permissions and\n",
              "// limitations under the License.\n",
              "\n",
              "/**\n",
              " * @fileoverview Helpers for google.colab Python module.\n",
              " */\n",
              "(function(scope) {\n",
              "function span(text, styleAttributes = {}) {\n",
              "  const element = document.createElement('span');\n",
              "  element.textContent = text;\n",
              "  for (const key of Object.keys(styleAttributes)) {\n",
              "    element.style[key] = styleAttributes[key];\n",
              "  }\n",
              "  return element;\n",
              "}\n",
              "\n",
              "// Max number of bytes which will be uploaded at a time.\n",
              "const MAX_PAYLOAD_SIZE = 100 * 1024;\n",
              "\n",
              "function _uploadFiles(inputId, outputId) {\n",
              "  const steps = uploadFilesStep(inputId, outputId);\n",
              "  const outputElement = document.getElementById(outputId);\n",
              "  // Cache steps on the outputElement to make it available for the next call\n",
              "  // to uploadFilesContinue from Python.\n",
              "  outputElement.steps = steps;\n",
              "\n",
              "  return _uploadFilesContinue(outputId);\n",
              "}\n",
              "\n",
              "// This is roughly an async generator (not supported in the browser yet),\n",
              "// where there are multiple asynchronous steps and the Python side is going\n",
              "// to poll for completion of each step.\n",
              "// This uses a Promise to block the python side on completion of each step,\n",
              "// then passes the result of the previous step as the input to the next step.\n",
              "function _uploadFilesContinue(outputId) {\n",
              "  const outputElement = document.getElementById(outputId);\n",
              "  const steps = outputElement.steps;\n",
              "\n",
              "  const next = steps.next(outputElement.lastPromiseValue);\n",
              "  return Promise.resolve(next.value.promise).then((value) => {\n",
              "    // Cache the last promise value to make it available to the next\n",
              "    // step of the generator.\n",
              "    outputElement.lastPromiseValue = value;\n",
              "    return next.value.response;\n",
              "  });\n",
              "}\n",
              "\n",
              "/**\n",
              " * Generator function which is called between each async step of the upload\n",
              " * process.\n",
              " * @param {string} inputId Element ID of the input file picker element.\n",
              " * @param {string} outputId Element ID of the output display.\n",
              " * @return {!Iterable<!Object>} Iterable of next steps.\n",
              " */\n",
              "function* uploadFilesStep(inputId, outputId) {\n",
              "  const inputElement = document.getElementById(inputId);\n",
              "  inputElement.disabled = false;\n",
              "\n",
              "  const outputElement = document.getElementById(outputId);\n",
              "  outputElement.innerHTML = '';\n",
              "\n",
              "  const pickedPromise = new Promise((resolve) => {\n",
              "    inputElement.addEventListener('change', (e) => {\n",
              "      resolve(e.target.files);\n",
              "    });\n",
              "  });\n",
              "\n",
              "  const cancel = document.createElement('button');\n",
              "  inputElement.parentElement.appendChild(cancel);\n",
              "  cancel.textContent = 'Cancel upload';\n",
              "  const cancelPromise = new Promise((resolve) => {\n",
              "    cancel.onclick = () => {\n",
              "      resolve(null);\n",
              "    };\n",
              "  });\n",
              "\n",
              "  // Wait for the user to pick the files.\n",
              "  const files = yield {\n",
              "    promise: Promise.race([pickedPromise, cancelPromise]),\n",
              "    response: {\n",
              "      action: 'starting',\n",
              "    }\n",
              "  };\n",
              "\n",
              "  cancel.remove();\n",
              "\n",
              "  // Disable the input element since further picks are not allowed.\n",
              "  inputElement.disabled = true;\n",
              "\n",
              "  if (!files) {\n",
              "    return {\n",
              "      response: {\n",
              "        action: 'complete',\n",
              "      }\n",
              "    };\n",
              "  }\n",
              "\n",
              "  for (const file of files) {\n",
              "    const li = document.createElement('li');\n",
              "    li.append(span(file.name, {fontWeight: 'bold'}));\n",
              "    li.append(span(\n",
              "        `(${file.type || 'n/a'}) - ${file.size} bytes, ` +\n",
              "        `last modified: ${\n",
              "            file.lastModifiedDate ? file.lastModifiedDate.toLocaleDateString() :\n",
              "                                    'n/a'} - `));\n",
              "    const percent = span('0% done');\n",
              "    li.appendChild(percent);\n",
              "\n",
              "    outputElement.appendChild(li);\n",
              "\n",
              "    const fileDataPromise = new Promise((resolve) => {\n",
              "      const reader = new FileReader();\n",
              "      reader.onload = (e) => {\n",
              "        resolve(e.target.result);\n",
              "      };\n",
              "      reader.readAsArrayBuffer(file);\n",
              "    });\n",
              "    // Wait for the data to be ready.\n",
              "    let fileData = yield {\n",
              "      promise: fileDataPromise,\n",
              "      response: {\n",
              "        action: 'continue',\n",
              "      }\n",
              "    };\n",
              "\n",
              "    // Use a chunked sending to avoid message size limits. See b/62115660.\n",
              "    let position = 0;\n",
              "    do {\n",
              "      const length = Math.min(fileData.byteLength - position, MAX_PAYLOAD_SIZE);\n",
              "      const chunk = new Uint8Array(fileData, position, length);\n",
              "      position += length;\n",
              "\n",
              "      const base64 = btoa(String.fromCharCode.apply(null, chunk));\n",
              "      yield {\n",
              "        response: {\n",
              "          action: 'append',\n",
              "          file: file.name,\n",
              "          data: base64,\n",
              "        },\n",
              "      };\n",
              "\n",
              "      let percentDone = fileData.byteLength === 0 ?\n",
              "          100 :\n",
              "          Math.round((position / fileData.byteLength) * 100);\n",
              "      percent.textContent = `${percentDone}% done`;\n",
              "\n",
              "    } while (position < fileData.byteLength);\n",
              "  }\n",
              "\n",
              "  // All done.\n",
              "  yield {\n",
              "    response: {\n",
              "      action: 'complete',\n",
              "    }\n",
              "  };\n",
              "}\n",
              "\n",
              "scope.google = scope.google || {};\n",
              "scope.google.colab = scope.google.colab || {};\n",
              "scope.google.colab._files = {\n",
              "  _uploadFiles,\n",
              "  _uploadFilesContinue,\n",
              "};\n",
              "})(self);\n",
              "</script> "
            ]
          },
          "metadata": {}
        },
        {
          "output_type": "stream",
          "name": "stdout",
          "text": [
            "Saving kaggle.json to kaggle.json\n"
          ]
        },
        {
          "output_type": "execute_result",
          "data": {
            "text/plain": [
              "{'kaggle.json': b'{\"username\":\"merlijnvanengelen\",\"key\":\"59d2edcb1d0b8088281e7ed626695646\"}'}"
            ]
          },
          "metadata": {},
          "execution_count": 3
        }
      ],
      "source": [
        "from google.colab import files\n",
        "files.upload()"
      ]
    },
    {
      "cell_type": "code",
      "source": [
        "!mkdir ~/.kaggle\n",
        "!cp kaggle.json ~/.kaggle/\n",
        "!chmod 600 ~/.kaggle/kaggle.json"
      ],
      "metadata": {
        "id": "VFBPmHp9jGAF"
      },
      "execution_count": null,
      "outputs": []
    },
    {
      "cell_type": "code",
      "source": [
        "!kaggle competitions download -c dogs-vs-cats"
      ],
      "metadata": {
        "colab": {
          "base_uri": "https://localhost:8080/"
        },
        "id": "MVMhgp3xjyYh",
        "outputId": "34093aa6-e0f5-4d76-f2f3-f2b699ea917f"
      },
      "execution_count": null,
      "outputs": [
        {
          "output_type": "stream",
          "name": "stdout",
          "text": [
            "Downloading dogs-vs-cats.zip to /content\n",
            "100% 810M/812M [00:07<00:00, 113MB/s]\n",
            "100% 812M/812M [00:07<00:00, 116MB/s]\n"
          ]
        }
      ]
    },
    {
      "cell_type": "code",
      "source": [
        "!unzip -qq dogs-vs-cats.zip"
      ],
      "metadata": {
        "id": "RBB1HHVikSb4"
      },
      "execution_count": null,
      "outputs": []
    },
    {
      "cell_type": "code",
      "source": [
        "!unzip -qq train.zip"
      ],
      "metadata": {
        "id": "EjetQlrwoGPS"
      },
      "execution_count": null,
      "outputs": []
    },
    {
      "cell_type": "markdown",
      "source": [
        "**Listing 8.6 Copying images to training, validation, and test directories**"
      ],
      "metadata": {
        "id": "46lmRGnKlelj"
      }
    },
    {
      "cell_type": "code",
      "source": [
        "import os, shutil, pathlib\n",
        "\n",
        "original_dir = pathlib.Path(\"train\")\n",
        "new_base_dir = pathlib.Path(\"cats_vs_dogs_small\")\n",
        "\n",
        "def make_subset(subset_name, start_index, end_index):\n",
        "    for category in (\"cat\", \"dog\"):\n",
        "      dir = new_base_dir / subset_name / category\n",
        "      os.makedirs(dir)\n",
        "      fnames = [f\"{category}.{i}.jpg\"\n",
        "                for i in range(start_index, end_index)]\n",
        "      for fname in fnames:\n",
        "        shutil.copyfile(src=original_dir / fname,\n",
        "                                 dst=dir / fname)\n",
        "make_subset(\"train\", start_index=0, end_index=1000)\n",
        "make_subset(\"validation\", start_index=1000, end_index=1500)\n",
        "make_subset(\"test\", start_index=1500, end_index=2500)"
      ],
      "metadata": {
        "id": "iaPQXOsGoLSy"
      },
      "execution_count": null,
      "outputs": []
    },
    {
      "cell_type": "code",
      "source": [
        "from tensorflow.keras.utils import image_dataset_from_directory\n",
        "\n",
        "train_dataset = image_dataset_from_directory(\n",
        "    new_base_dir / \"train\",\n",
        "    image_size=(180, 180),\n",
        "    batch_size=32\n",
        ")\n",
        "validation_dataset = image_dataset_from_directory(\n",
        "    new_base_dir / \"validation\",\n",
        "    image_size=(180, 180),\n",
        "    batch_size=32\n",
        ")\n",
        "test_dataset = image_dataset_from_directory(\n",
        "    new_base_dir / \"test\",\n",
        "    image_size=(180, 180),\n",
        "    batch_size=32\n",
        ")"
      ],
      "metadata": {
        "colab": {
          "base_uri": "https://localhost:8080/"
        },
        "id": "bk6BlR0eKM4R",
        "outputId": "1ad1b25e-50c3-4ce4-faf0-5b357d65fc18"
      },
      "execution_count": null,
      "outputs": [
        {
          "output_type": "stream",
          "name": "stdout",
          "text": [
            "Found 2000 files belonging to 2 classes.\n",
            "Found 1000 files belonging to 2 classes.\n",
            "Found 2000 files belonging to 2 classes.\n"
          ]
        }
      ]
    },
    {
      "cell_type": "markdown",
      "source": [
        "**Listing 8.19 Instantiating the VGG16 convolutional base**"
      ],
      "metadata": {
        "id": "ZZPnQKMiV-gJ"
      }
    },
    {
      "cell_type": "code",
      "execution_count": null,
      "metadata": {
        "colab": {
          "base_uri": "https://localhost:8080/"
        },
        "id": "WOmvXBRoU24r",
        "outputId": "a6c68286-4424-4a96-e80b-47d3cb4e2ff5"
      },
      "outputs": [
        {
          "output_type": "stream",
          "name": "stdout",
          "text": [
            "Downloading data from https://storage.googleapis.com/tensorflow/keras-applications/vgg16/vgg16_weights_tf_dim_ordering_tf_kernels_notop.h5\n",
            "58889256/58889256 [==============================] - 0s 0us/step\n",
            "Model: \"vgg16\"\n",
            "_________________________________________________________________\n",
            " Layer (type)                Output Shape              Param #   \n",
            "=================================================================\n",
            " input_1 (InputLayer)        [(None, 180, 180, 3)]     0         \n",
            "                                                                 \n",
            " block1_conv1 (Conv2D)       (None, 180, 180, 64)      1792      \n",
            "                                                                 \n",
            " block1_conv2 (Conv2D)       (None, 180, 180, 64)      36928     \n",
            "                                                                 \n",
            " block1_pool (MaxPooling2D)  (None, 90, 90, 64)        0         \n",
            "                                                                 \n",
            " block2_conv1 (Conv2D)       (None, 90, 90, 128)       73856     \n",
            "                                                                 \n",
            " block2_conv2 (Conv2D)       (None, 90, 90, 128)       147584    \n",
            "                                                                 \n",
            " block2_pool (MaxPooling2D)  (None, 45, 45, 128)       0         \n",
            "                                                                 \n",
            " block3_conv1 (Conv2D)       (None, 45, 45, 256)       295168    \n",
            "                                                                 \n",
            " block3_conv2 (Conv2D)       (None, 45, 45, 256)       590080    \n",
            "                                                                 \n",
            " block3_conv3 (Conv2D)       (None, 45, 45, 256)       590080    \n",
            "                                                                 \n",
            " block3_pool (MaxPooling2D)  (None, 22, 22, 256)       0         \n",
            "                                                                 \n",
            " block4_conv1 (Conv2D)       (None, 22, 22, 512)       1180160   \n",
            "                                                                 \n",
            " block4_conv2 (Conv2D)       (None, 22, 22, 512)       2359808   \n",
            "                                                                 \n",
            " block4_conv3 (Conv2D)       (None, 22, 22, 512)       2359808   \n",
            "                                                                 \n",
            " block4_pool (MaxPooling2D)  (None, 11, 11, 512)       0         \n",
            "                                                                 \n",
            " block5_conv1 (Conv2D)       (None, 11, 11, 512)       2359808   \n",
            "                                                                 \n",
            " block5_conv2 (Conv2D)       (None, 11, 11, 512)       2359808   \n",
            "                                                                 \n",
            " block5_conv3 (Conv2D)       (None, 11, 11, 512)       2359808   \n",
            "                                                                 \n",
            " block5_pool (MaxPooling2D)  (None, 5, 5, 512)         0         \n",
            "                                                                 \n",
            "=================================================================\n",
            "Total params: 14,714,688\n",
            "Trainable params: 14,714,688\n",
            "Non-trainable params: 0\n",
            "_________________________________________________________________\n"
          ]
        }
      ],
      "source": [
        "from tensorflow import keras\n",
        "\n",
        "conv_base = keras.applications.vgg16.VGG16(\n",
        "    weights=\"imagenet\",\n",
        "    include_top=False,\n",
        "    input_shape=(180, 180, 3)\n",
        ")\n",
        "conv_base.summary()"
      ]
    },
    {
      "cell_type": "markdown",
      "source": [
        "**Listing 8.19 Instantiating the VGG16 convolutional base**"
      ],
      "metadata": {
        "id": "3Sc14CxlXLTi"
      }
    },
    {
      "cell_type": "code",
      "source": [
        "import numpy as np\n",
        "\n",
        "def get_features_and_labels(dataset):\n",
        "  all_features = []\n",
        "  all_labels = []\n",
        "  for images, labels in dataset:\n",
        "    print('Processing images/labels...')\n",
        "    preprocessed_images = keras.applications.vgg16.preprocess_input(images)\n",
        "    print('Extracting features...')\n",
        "    features = conv_base.predict(preprocessed_images)\n",
        "    all_features.append(features)\n",
        "    all_labels.append(labels)\n",
        "  return np.concatenate(all_features), np.concatenate(all_labels)\n",
        "\n",
        "train_features, train_labels = get_features_and_labels(train_dataset)\n",
        "print('Doing val_dataset')\n",
        "val_features, val_labels = get_features_and_labels(validation_dataset)\n",
        "print('Doing test_dataset')\n",
        "test_features, test_labels = get_features_and_labels(test_dataset)\n",
        "\n",
        "train_features.shape"
      ],
      "metadata": {
        "id": "TlpOPlq5XMSN",
        "colab": {
          "base_uri": "https://localhost:8080/"
        },
        "outputId": "24586589-8e88-423c-a740-1106aaeb4f10"
      },
      "execution_count": null,
      "outputs": [
        {
          "output_type": "stream",
          "name": "stdout",
          "text": [
            "Processing images/labels...\n",
            "Extracting features...\n",
            "1/1 [==============================] - 0s 31ms/step\n",
            "Processing images/labels...\n",
            "Extracting features...\n",
            "1/1 [==============================] - 0s 35ms/step\n",
            "Processing images/labels...\n",
            "Extracting features...\n",
            "1/1 [==============================] - 0s 43ms/step\n",
            "Processing images/labels...\n",
            "Extracting features...\n",
            "1/1 [==============================] - 0s 32ms/step\n",
            "Processing images/labels...\n",
            "Extracting features...\n",
            "1/1 [==============================] - 0s 29ms/step\n",
            "Processing images/labels...\n",
            "Extracting features...\n",
            "1/1 [==============================] - 0s 40ms/step\n",
            "Processing images/labels...\n",
            "Extracting features...\n",
            "1/1 [==============================] - 0s 25ms/step\n",
            "Processing images/labels...\n",
            "Extracting features...\n",
            "1/1 [==============================] - 0s 28ms/step\n",
            "Processing images/labels...\n",
            "Extracting features...\n",
            "1/1 [==============================] - 0s 36ms/step\n",
            "Processing images/labels...\n",
            "Extracting features...\n",
            "1/1 [==============================] - 0s 26ms/step\n",
            "Processing images/labels...\n",
            "Extracting features...\n",
            "1/1 [==============================] - 0s 25ms/step\n",
            "Processing images/labels...\n",
            "Extracting features...\n",
            "1/1 [==============================] - 0s 27ms/step\n",
            "Processing images/labels...\n",
            "Extracting features...\n",
            "1/1 [==============================] - 0s 36ms/step\n",
            "Processing images/labels...\n",
            "Extracting features...\n",
            "1/1 [==============================] - 0s 31ms/step\n",
            "Processing images/labels...\n",
            "Extracting features...\n",
            "1/1 [==============================] - 0s 36ms/step\n",
            "Processing images/labels...\n",
            "Extracting features...\n",
            "1/1 [==============================] - 0s 29ms/step\n",
            "Processing images/labels...\n",
            "Extracting features...\n",
            "1/1 [==============================] - 0s 33ms/step\n",
            "Processing images/labels...\n",
            "Extracting features...\n",
            "1/1 [==============================] - 0s 50ms/step\n",
            "Processing images/labels...\n",
            "Extracting features...\n",
            "1/1 [==============================] - 0s 42ms/step\n",
            "Processing images/labels...\n",
            "Extracting features...\n",
            "1/1 [==============================] - 0s 41ms/step\n",
            "Processing images/labels...\n",
            "Extracting features...\n",
            "1/1 [==============================] - 0s 54ms/step\n",
            "Processing images/labels...\n",
            "Extracting features...\n",
            "1/1 [==============================] - 0s 44ms/step\n",
            "Processing images/labels...\n",
            "Extracting features...\n",
            "1/1 [==============================] - 0s 38ms/step\n",
            "Processing images/labels...\n",
            "Extracting features...\n",
            "1/1 [==============================] - 0s 46ms/step\n",
            "Processing images/labels...\n",
            "Extracting features...\n",
            "1/1 [==============================] - 0s 51ms/step\n",
            "Processing images/labels...\n",
            "Extracting features...\n",
            "1/1 [==============================] - 0s 51ms/step\n",
            "Processing images/labels...\n",
            "Extracting features...\n",
            "1/1 [==============================] - 0s 41ms/step\n",
            "Processing images/labels...\n",
            "Extracting features...\n",
            "1/1 [==============================] - 0s 33ms/step\n",
            "Processing images/labels...\n",
            "Extracting features...\n",
            "1/1 [==============================] - 0s 28ms/step\n",
            "Processing images/labels...\n",
            "Extracting features...\n",
            "1/1 [==============================] - 0s 26ms/step\n",
            "Processing images/labels...\n",
            "Extracting features...\n",
            "1/1 [==============================] - 0s 29ms/step\n",
            "Processing images/labels...\n",
            "Extracting features...\n",
            "1/1 [==============================] - 0s 32ms/step\n",
            "Processing images/labels...\n",
            "Extracting features...\n",
            "1/1 [==============================] - 0s 32ms/step\n",
            "Processing images/labels...\n",
            "Extracting features...\n",
            "1/1 [==============================] - 0s 29ms/step\n",
            "Processing images/labels...\n",
            "Extracting features...\n",
            "1/1 [==============================] - 0s 28ms/step\n",
            "Processing images/labels...\n",
            "Extracting features...\n",
            "1/1 [==============================] - 0s 26ms/step\n",
            "Processing images/labels...\n",
            "Extracting features...\n",
            "1/1 [==============================] - 0s 29ms/step\n",
            "Processing images/labels...\n",
            "Extracting features...\n",
            "1/1 [==============================] - 0s 30ms/step\n",
            "Processing images/labels...\n",
            "Extracting features...\n",
            "1/1 [==============================] - 0s 29ms/step\n",
            "Processing images/labels...\n",
            "Extracting features...\n",
            "1/1 [==============================] - 0s 26ms/step\n",
            "Processing images/labels...\n",
            "Extracting features...\n",
            "1/1 [==============================] - 0s 30ms/step\n",
            "Processing images/labels...\n",
            "Extracting features...\n",
            "1/1 [==============================] - 0s 31ms/step\n",
            "Processing images/labels...\n",
            "Extracting features...\n",
            "1/1 [==============================] - 0s 26ms/step\n",
            "Processing images/labels...\n",
            "Extracting features...\n",
            "1/1 [==============================] - 0s 34ms/step\n",
            "Processing images/labels...\n",
            "Extracting features...\n",
            "1/1 [==============================] - 0s 28ms/step\n",
            "Processing images/labels...\n",
            "Extracting features...\n",
            "1/1 [==============================] - 0s 31ms/step\n",
            "Processing images/labels...\n",
            "Extracting features...\n",
            "1/1 [==============================] - 0s 29ms/step\n",
            "Processing images/labels...\n",
            "Extracting features...\n",
            "1/1 [==============================] - 0s 28ms/step\n",
            "Processing images/labels...\n",
            "Extracting features...\n",
            "1/1 [==============================] - 0s 27ms/step\n",
            "Processing images/labels...\n",
            "Extracting features...\n",
            "1/1 [==============================] - 0s 25ms/step\n",
            "Processing images/labels...\n",
            "Extracting features...\n",
            "1/1 [==============================] - 0s 31ms/step\n",
            "Processing images/labels...\n",
            "Extracting features...\n",
            "1/1 [==============================] - 0s 29ms/step\n",
            "Processing images/labels...\n",
            "Extracting features...\n",
            "1/1 [==============================] - 0s 26ms/step\n",
            "Processing images/labels...\n",
            "Extracting features...\n",
            "1/1 [==============================] - 0s 27ms/step\n",
            "Processing images/labels...\n",
            "Extracting features...\n",
            "1/1 [==============================] - 0s 29ms/step\n",
            "Processing images/labels...\n",
            "Extracting features...\n",
            "1/1 [==============================] - 0s 30ms/step\n",
            "Processing images/labels...\n",
            "Extracting features...\n",
            "1/1 [==============================] - 0s 34ms/step\n",
            "Processing images/labels...\n",
            "Extracting features...\n",
            "1/1 [==============================] - 0s 30ms/step\n",
            "Processing images/labels...\n",
            "Extracting features...\n",
            "1/1 [==============================] - 0s 28ms/step\n",
            "Processing images/labels...\n",
            "Extracting features...\n",
            "1/1 [==============================] - 0s 28ms/step\n",
            "Processing images/labels...\n",
            "Extracting features...\n",
            "1/1 [==============================] - 0s 27ms/step\n",
            "Processing images/labels...\n",
            "Extracting features...\n",
            "1/1 [==============================] - 0s 33ms/step\n",
            "Processing images/labels...\n",
            "Extracting features...\n",
            "1/1 [==============================] - 0s 26ms/step\n",
            "Doing val_dataset\n",
            "Processing images/labels...\n",
            "Extracting features...\n",
            "1/1 [==============================] - 0s 28ms/step\n",
            "Processing images/labels...\n",
            "Extracting features...\n",
            "1/1 [==============================] - 0s 29ms/step\n",
            "Processing images/labels...\n",
            "Extracting features...\n",
            "1/1 [==============================] - 0s 38ms/step\n",
            "Processing images/labels...\n",
            "Extracting features...\n",
            "1/1 [==============================] - 0s 28ms/step\n",
            "Processing images/labels...\n",
            "Extracting features...\n",
            "1/1 [==============================] - 0s 37ms/step\n",
            "Processing images/labels...\n",
            "Extracting features...\n",
            "1/1 [==============================] - 0s 38ms/step\n",
            "Processing images/labels...\n",
            "Extracting features...\n",
            "1/1 [==============================] - 0s 30ms/step\n",
            "Processing images/labels...\n",
            "Extracting features...\n",
            "1/1 [==============================] - 0s 31ms/step\n",
            "Processing images/labels...\n",
            "Extracting features...\n",
            "1/1 [==============================] - 0s 27ms/step\n",
            "Processing images/labels...\n",
            "Extracting features...\n",
            "1/1 [==============================] - 0s 32ms/step\n",
            "Processing images/labels...\n",
            "Extracting features...\n",
            "1/1 [==============================] - 0s 29ms/step\n",
            "Processing images/labels...\n",
            "Extracting features...\n",
            "1/1 [==============================] - 0s 30ms/step\n",
            "Processing images/labels...\n",
            "Extracting features...\n",
            "1/1 [==============================] - 0s 33ms/step\n",
            "Processing images/labels...\n",
            "Extracting features...\n",
            "1/1 [==============================] - 0s 30ms/step\n",
            "Processing images/labels...\n",
            "Extracting features...\n",
            "1/1 [==============================] - 0s 25ms/step\n",
            "Processing images/labels...\n",
            "Extracting features...\n",
            "1/1 [==============================] - 0s 39ms/step\n",
            "Processing images/labels...\n",
            "Extracting features...\n",
            "1/1 [==============================] - 0s 43ms/step\n",
            "Processing images/labels...\n",
            "Extracting features...\n",
            "1/1 [==============================] - 0s 71ms/step\n",
            "Processing images/labels...\n",
            "Extracting features...\n",
            "1/1 [==============================] - 0s 38ms/step\n",
            "Processing images/labels...\n",
            "Extracting features...\n",
            "1/1 [==============================] - 0s 47ms/step\n",
            "Processing images/labels...\n",
            "Extracting features...\n",
            "1/1 [==============================] - 0s 40ms/step\n",
            "Processing images/labels...\n",
            "Extracting features...\n",
            "1/1 [==============================] - 0s 37ms/step\n",
            "Processing images/labels...\n",
            "Extracting features...\n",
            "1/1 [==============================] - 0s 40ms/step\n",
            "Processing images/labels...\n",
            "Extracting features...\n",
            "1/1 [==============================] - 0s 36ms/step\n",
            "Processing images/labels...\n",
            "Extracting features...\n",
            "1/1 [==============================] - 0s 45ms/step\n",
            "Processing images/labels...\n",
            "Extracting features...\n",
            "1/1 [==============================] - 0s 42ms/step\n",
            "Processing images/labels...\n",
            "Extracting features...\n",
            "1/1 [==============================] - 0s 39ms/step\n",
            "Processing images/labels...\n",
            "Extracting features...\n",
            "1/1 [==============================] - 0s 27ms/step\n",
            "Processing images/labels...\n",
            "Extracting features...\n",
            "1/1 [==============================] - 0s 32ms/step\n",
            "Processing images/labels...\n",
            "Extracting features...\n",
            "1/1 [==============================] - 0s 30ms/step\n",
            "Processing images/labels...\n",
            "Extracting features...\n",
            "1/1 [==============================] - 0s 26ms/step\n",
            "Processing images/labels...\n",
            "Extracting features...\n",
            "1/1 [==============================] - 0s 24ms/step\n",
            "Doing test_dataset\n",
            "Processing images/labels...\n",
            "Extracting features...\n",
            "1/1 [==============================] - 0s 29ms/step\n",
            "Processing images/labels...\n",
            "Extracting features...\n",
            "1/1 [==============================] - 0s 28ms/step\n",
            "Processing images/labels...\n",
            "Extracting features...\n",
            "1/1 [==============================] - 0s 32ms/step\n",
            "Processing images/labels...\n",
            "Extracting features...\n",
            "1/1 [==============================] - 0s 36ms/step\n",
            "Processing images/labels...\n",
            "Extracting features...\n",
            "1/1 [==============================] - 0s 33ms/step\n",
            "Processing images/labels...\n",
            "Extracting features...\n",
            "1/1 [==============================] - 0s 40ms/step\n",
            "Processing images/labels...\n",
            "Extracting features...\n",
            "1/1 [==============================] - 0s 31ms/step\n",
            "Processing images/labels...\n",
            "Extracting features...\n",
            "1/1 [==============================] - 0s 30ms/step\n",
            "Processing images/labels...\n",
            "Extracting features...\n",
            "1/1 [==============================] - 0s 29ms/step\n",
            "Processing images/labels...\n",
            "Extracting features...\n",
            "1/1 [==============================] - 0s 29ms/step\n",
            "Processing images/labels...\n",
            "Extracting features...\n",
            "1/1 [==============================] - 0s 28ms/step\n",
            "Processing images/labels...\n",
            "Extracting features...\n",
            "1/1 [==============================] - 0s 42ms/step\n",
            "Processing images/labels...\n",
            "Extracting features...\n",
            "1/1 [==============================] - 0s 34ms/step\n",
            "Processing images/labels...\n",
            "Extracting features...\n",
            "1/1 [==============================] - 0s 31ms/step\n",
            "Processing images/labels...\n",
            "Extracting features...\n",
            "1/1 [==============================] - 0s 31ms/step\n",
            "Processing images/labels...\n",
            "Extracting features...\n",
            "1/1 [==============================] - 0s 27ms/step\n",
            "Processing images/labels...\n",
            "Extracting features...\n",
            "1/1 [==============================] - 0s 33ms/step\n",
            "Processing images/labels...\n",
            "Extracting features...\n",
            "1/1 [==============================] - 0s 25ms/step\n",
            "Processing images/labels...\n",
            "Extracting features...\n",
            "1/1 [==============================] - 0s 37ms/step\n",
            "Processing images/labels...\n",
            "Extracting features...\n",
            "1/1 [==============================] - 0s 34ms/step\n",
            "Processing images/labels...\n",
            "Extracting features...\n",
            "1/1 [==============================] - 0s 29ms/step\n",
            "Processing images/labels...\n",
            "Extracting features...\n",
            "1/1 [==============================] - 0s 28ms/step\n",
            "Processing images/labels...\n",
            "Extracting features...\n",
            "1/1 [==============================] - 0s 29ms/step\n",
            "Processing images/labels...\n",
            "Extracting features...\n",
            "1/1 [==============================] - 0s 30ms/step\n",
            "Processing images/labels...\n",
            "Extracting features...\n",
            "1/1 [==============================] - 0s 27ms/step\n",
            "Processing images/labels...\n",
            "Extracting features...\n",
            "1/1 [==============================] - 0s 31ms/step\n",
            "Processing images/labels...\n",
            "Extracting features...\n",
            "1/1 [==============================] - 0s 27ms/step\n",
            "Processing images/labels...\n",
            "Extracting features...\n",
            "1/1 [==============================] - 0s 34ms/step\n",
            "Processing images/labels...\n",
            "Extracting features...\n",
            "1/1 [==============================] - 0s 37ms/step\n",
            "Processing images/labels...\n",
            "Extracting features...\n",
            "1/1 [==============================] - 0s 30ms/step\n",
            "Processing images/labels...\n",
            "Extracting features...\n",
            "1/1 [==============================] - 0s 34ms/step\n",
            "Processing images/labels...\n",
            "Extracting features...\n",
            "1/1 [==============================] - 0s 30ms/step\n",
            "Processing images/labels...\n",
            "Extracting features...\n",
            "1/1 [==============================] - 0s 28ms/step\n",
            "Processing images/labels...\n",
            "Extracting features...\n",
            "1/1 [==============================] - 0s 33ms/step\n",
            "Processing images/labels...\n",
            "Extracting features...\n",
            "1/1 [==============================] - 0s 34ms/step\n",
            "Processing images/labels...\n",
            "Extracting features...\n",
            "1/1 [==============================] - 0s 28ms/step\n",
            "Processing images/labels...\n",
            "Extracting features...\n",
            "1/1 [==============================] - 0s 33ms/step\n",
            "Processing images/labels...\n",
            "Extracting features...\n",
            "1/1 [==============================] - 0s 33ms/step\n",
            "Processing images/labels...\n",
            "Extracting features...\n",
            "1/1 [==============================] - 0s 27ms/step\n",
            "Processing images/labels...\n",
            "Extracting features...\n",
            "1/1 [==============================] - 0s 28ms/step\n",
            "Processing images/labels...\n",
            "Extracting features...\n",
            "1/1 [==============================] - 0s 33ms/step\n",
            "Processing images/labels...\n",
            "Extracting features...\n",
            "1/1 [==============================] - 0s 26ms/step\n",
            "Processing images/labels...\n",
            "Extracting features...\n",
            "1/1 [==============================] - 0s 30ms/step\n",
            "Processing images/labels...\n",
            "Extracting features...\n",
            "1/1 [==============================] - 0s 26ms/step\n",
            "Processing images/labels...\n",
            "Extracting features...\n",
            "1/1 [==============================] - 0s 27ms/step\n",
            "Processing images/labels...\n",
            "Extracting features...\n",
            "1/1 [==============================] - 0s 38ms/step\n",
            "Processing images/labels...\n",
            "Extracting features...\n",
            "1/1 [==============================] - 0s 28ms/step\n",
            "Processing images/labels...\n",
            "Extracting features...\n",
            "1/1 [==============================] - 0s 33ms/step\n",
            "Processing images/labels...\n",
            "Extracting features...\n",
            "1/1 [==============================] - 0s 32ms/step\n",
            "Processing images/labels...\n",
            "Extracting features...\n",
            "1/1 [==============================] - 0s 46ms/step\n",
            "Processing images/labels...\n",
            "Extracting features...\n",
            "1/1 [==============================] - 0s 49ms/step\n",
            "Processing images/labels...\n",
            "Extracting features...\n",
            "1/1 [==============================] - 0s 36ms/step\n",
            "Processing images/labels...\n",
            "Extracting features...\n",
            "1/1 [==============================] - 0s 40ms/step\n",
            "Processing images/labels...\n",
            "Extracting features...\n",
            "1/1 [==============================] - 0s 40ms/step\n",
            "Processing images/labels...\n",
            "Extracting features...\n",
            "1/1 [==============================] - 0s 38ms/step\n",
            "Processing images/labels...\n",
            "Extracting features...\n",
            "1/1 [==============================] - 0s 50ms/step\n",
            "Processing images/labels...\n",
            "Extracting features...\n",
            "1/1 [==============================] - 0s 41ms/step\n",
            "Processing images/labels...\n",
            "Extracting features...\n",
            "1/1 [==============================] - 0s 38ms/step\n",
            "Processing images/labels...\n",
            "Extracting features...\n",
            "1/1 [==============================] - 0s 46ms/step\n",
            "Processing images/labels...\n",
            "Extracting features...\n",
            "1/1 [==============================] - 0s 35ms/step\n",
            "Processing images/labels...\n",
            "Extracting features...\n",
            "1/1 [==============================] - 0s 27ms/step\n",
            "Processing images/labels...\n",
            "Extracting features...\n",
            "1/1 [==============================] - 0s 34ms/step\n",
            "Processing images/labels...\n",
            "Extracting features...\n",
            "1/1 [==============================] - 0s 26ms/step\n"
          ]
        },
        {
          "output_type": "execute_result",
          "data": {
            "text/plain": [
              "(2000, 5, 5, 512)"
            ]
          },
          "metadata": {},
          "execution_count": 12
        }
      ]
    },
    {
      "cell_type": "code",
      "source": [
        "print(len(train_features), len(train_labels))"
      ],
      "metadata": {
        "colab": {
          "base_uri": "https://localhost:8080/"
        },
        "id": "0QGIbmq1ePYK",
        "outputId": "6a33d26b-74fa-4f69-ead4-52c7905d6ed9"
      },
      "execution_count": null,
      "outputs": [
        {
          "output_type": "stream",
          "name": "stdout",
          "text": [
            "2000 2000\n"
          ]
        }
      ]
    },
    {
      "cell_type": "markdown",
      "source": [
        "**Listing 8.21 Defining and training the densely connected classifier**"
      ],
      "metadata": {
        "id": "XHJ_XzLFl_TY"
      }
    },
    {
      "cell_type": "code",
      "source": [
        "from tensorflow.keras import layers\n",
        "\n",
        "inputs = keras.Input(shape=(5, 5, 512))\n",
        "x = layers.Flatten()(inputs)\n",
        "x = layers.Dense(256)(x)\n",
        "x = layers.Dropout(0.5)(x)\n",
        "outputs = layers.Dense(1, activation=\"sigmoid\")(x)\n",
        "\n",
        "model = keras.Model(inputs, outputs)\n",
        "print(\"Compiling model...\")\n",
        "model.compile(optimizer=\"rmsprop\", loss=\"binary_crossentropy\", metrics=[\"accuracy\"])\n",
        "\n",
        "callbacks = [\n",
        "    keras.callbacks.ModelCheckpoint(\n",
        "        filepath=\"feature_extraction.keras\",\n",
        "        save_best_only=True,\n",
        "        monitor=\"val_loss\"\n",
        "    )\n",
        "]\n",
        "history = model.fit(\n",
        "    train_features, train_labels,\n",
        "    epochs=20,\n",
        "    validation_data=(val_features, val_labels),\n",
        "    callbacks=callbacks\n",
        ")"
      ],
      "metadata": {
        "colab": {
          "base_uri": "https://localhost:8080/"
        },
        "id": "FQpHMjZZmAZa",
        "outputId": "03924ba3-00c9-4217-87ab-a9504230f271"
      },
      "execution_count": null,
      "outputs": [
        {
          "output_type": "stream",
          "name": "stdout",
          "text": [
            "Compiling model...\n",
            "Epoch 1/20\n",
            "63/63 [==============================] - 3s 16ms/step - loss: 29.9885 - accuracy: 0.9160 - val_loss: 3.9399 - val_accuracy: 0.9650\n",
            "Epoch 2/20\n",
            "63/63 [==============================] - 1s 8ms/step - loss: 5.1907 - accuracy: 0.9735 - val_loss: 10.4158 - val_accuracy: 0.9550\n",
            "Epoch 3/20\n",
            "63/63 [==============================] - 1s 9ms/step - loss: 2.0273 - accuracy: 0.9840 - val_loss: 8.1616 - val_accuracy: 0.9600\n",
            "Epoch 4/20\n",
            "63/63 [==============================] - 0s 8ms/step - loss: 0.9239 - accuracy: 0.9910 - val_loss: 4.9766 - val_accuracy: 0.9720\n",
            "Epoch 5/20\n",
            "63/63 [==============================] - 0s 6ms/step - loss: 0.7988 - accuracy: 0.9900 - val_loss: 5.7687 - val_accuracy: 0.9680\n",
            "Epoch 6/20\n",
            "63/63 [==============================] - 0s 7ms/step - loss: 0.3066 - accuracy: 0.9980 - val_loss: 4.7752 - val_accuracy: 0.9750\n",
            "Epoch 7/20\n",
            "63/63 [==============================] - 0s 7ms/step - loss: 0.3236 - accuracy: 0.9960 - val_loss: 4.9587 - val_accuracy: 0.9750\n",
            "Epoch 8/20\n",
            "63/63 [==============================] - 0s 7ms/step - loss: 0.5096 - accuracy: 0.9965 - val_loss: 4.7117 - val_accuracy: 0.9730\n",
            "Epoch 9/20\n",
            "63/63 [==============================] - 0s 7ms/step - loss: 0.4096 - accuracy: 0.9970 - val_loss: 4.5222 - val_accuracy: 0.9770\n",
            "Epoch 10/20\n",
            "63/63 [==============================] - 0s 6ms/step - loss: 0.1166 - accuracy: 0.9990 - val_loss: 4.2743 - val_accuracy: 0.9750\n",
            "Epoch 11/20\n",
            "63/63 [==============================] - 0s 7ms/step - loss: 0.2214 - accuracy: 0.9970 - val_loss: 5.1883 - val_accuracy: 0.9760\n",
            "Epoch 12/20\n",
            "63/63 [==============================] - 0s 6ms/step - loss: 0.2181 - accuracy: 0.9980 - val_loss: 5.0922 - val_accuracy: 0.9760\n",
            "Epoch 13/20\n",
            "63/63 [==============================] - 0s 7ms/step - loss: 0.5581 - accuracy: 0.9955 - val_loss: 5.1378 - val_accuracy: 0.9730\n",
            "Epoch 14/20\n",
            "63/63 [==============================] - 0s 7ms/step - loss: 0.2401 - accuracy: 0.9980 - val_loss: 4.7267 - val_accuracy: 0.9770\n",
            "Epoch 15/20\n",
            "63/63 [==============================] - 0s 7ms/step - loss: 0.0632 - accuracy: 0.9990 - val_loss: 4.1919 - val_accuracy: 0.9810\n",
            "Epoch 16/20\n",
            "63/63 [==============================] - 0s 7ms/step - loss: 0.0453 - accuracy: 0.9995 - val_loss: 6.3813 - val_accuracy: 0.9720\n",
            "Epoch 17/20\n",
            "63/63 [==============================] - 0s 6ms/step - loss: 0.3404 - accuracy: 0.9975 - val_loss: 5.4034 - val_accuracy: 0.9760\n",
            "Epoch 18/20\n",
            "63/63 [==============================] - 0s 6ms/step - loss: 0.0826 - accuracy: 0.9975 - val_loss: 6.0029 - val_accuracy: 0.9730\n",
            "Epoch 19/20\n",
            "63/63 [==============================] - 0s 6ms/step - loss: 0.2544 - accuracy: 0.9980 - val_loss: 6.0727 - val_accuracy: 0.9730\n",
            "Epoch 20/20\n",
            "63/63 [==============================] - 0s 7ms/step - loss: 0.1447 - accuracy: 0.9990 - val_loss: 6.2726 - val_accuracy: 0.9740\n"
          ]
        }
      ]
    },
    {
      "cell_type": "code",
      "source": [
        "import matplotlib.pyplot as plt\n",
        "\n",
        "acc = history.history[\"accuracy\"]\n",
        "val_acc = history.history[\"val_accuracy\"]\n",
        "loss = history.history[\"loss\"]\n",
        "val_loss = history.history[\"val_loss\"]\n",
        "epochs = range(1, len(acc) + 1)\n",
        "plt.plot(epochs, acc, \"bo\", label=\"Training Accuracy\")\n",
        "plt.plot(epochs, val_acc, \"b\", label=\"Validation accuracy\")\n",
        "plt.title(\"training and validation accuracy\")\n",
        "plt.legend()\n",
        "plt.figure()\n",
        "plt.plot(epochs, loss, \"bo\", \"Training loss\")\n",
        "plt.plot(epochs, val_loss, \"b\", \"Validation loss\")\n",
        "plt.title(\"Training and validation loss\")\n",
        "plt.legend()\n",
        "plt.show()"
      ],
      "metadata": {
        "colab": {
          "base_uri": "https://localhost:8080/",
          "height": 925
        },
        "id": "ZoVcmKTGnmhl",
        "outputId": "cdebfad5-d890-4448-e0a4-05e31db54bce"
      },
      "execution_count": null,
      "outputs": [
        {
          "output_type": "stream",
          "name": "stderr",
          "text": [
            "WARNING:matplotlib.legend:No artists with labels found to put in legend.  Note that artists whose label start with an underscore are ignored when legend() is called with no argument.\n"
          ]
        },
        {
          "output_type": "display_data",
          "data": {
            "text/plain": [
              "<Figure size 640x480 with 1 Axes>"
            ],
            "image/png": "[encoded data removed]"
          },
          "metadata": {}
        },
        {
          "output_type": "display_data",
          "data": {
            "text/plain": [
              "<Figure size 640x480 with 1 Axes>"
            ],
            "image/png": "[encoded data removed]"
          },
          "metadata": {}
        }
      ]
    },
    {
      "cell_type": "markdown",
      "source": [
        "**Listing 8.23 Instantiating and freezing the VGG16 convolutional base**"
      ],
      "metadata": {
        "id": "HHt_mCPvo1m5"
      }
    },
    {
      "cell_type": "code",
      "source": [
        "conv_base  = keras.applications.vgg16.VGG16(\n",
        "    weights=\"imagenet\",\n",
        "    include_top=False)\n",
        "conv_base.trainable = False"
      ],
      "metadata": {
        "id": "2vaqAT4tpVnK"
      },
      "execution_count": null,
      "outputs": []
    },
    {
      "cell_type": "markdown",
      "source": [
        "**Listing 8.24 Printing the list of trainable weights before and after freezing**"
      ],
      "metadata": {
        "id": "5SGVxOcdpabc"
      }
    },
    {
      "cell_type": "code",
      "source": [
        "data_augmentation = keras.Sequential(\n",
        "    [\n",
        "        layers.RandomFlip(\"horizontal\"),\n",
        "        layers.RandomRotation(0.1),\n",
        "        layers.RandomZoom(0.2),\n",
        "    ]\n",
        ")\n",
        "\n",
        "inputs = keras.Input(shape=(180, 180, 3))\n",
        "x = data_augmentation(inputs)\n",
        "x = keras.applications.vgg16.preprocess_input(x)\n",
        "x = conv_base(x)\n",
        "x = layers.Flatten()(x)\n",
        "x = layers.Dense(256)(x)\n",
        "x = layers.Dropout(0.5)(x)\n",
        "outputs = layers.Dense(1, activation=\"sigmoid\")(x)\n",
        "\n",
        "model = keras.Model(inputs, outputs)\n",
        "model.compile(loss=\"binary_crossentropy\", optimizer=\"rmsprop\", metrics=[\"accuracy\"])"
      ],
      "metadata": {
        "id": "d6wbbOKso2_Z"
      },
      "execution_count": null,
      "outputs": []
    },
    {
      "cell_type": "code",
      "source": [
        "callbacks = [\n",
        "    keras.callbacks.ModelCheckpoint(\n",
        "        filepath=\"feature_extraction_with_data_augmentation.keras\",\n",
        "        save_best_only=True,\n",
        "        monitor=\"val_loss\")\n",
        "]\n",
        "\n",
        "history = model.fit(\n",
        "        train_dataset,\n",
        "        epochs=50,\n",
        "        validation_data=validation_dataset,\n",
        "        callbacks=callbacks)"
      ],
      "metadata": {
        "colab": {
          "base_uri": "https://localhost:8080/"
        },
        "id": "qbZAwfWbrQL0",
        "outputId": "278b93ee-0a19-414c-df7b-cdeca3ce49c9"
      },
      "execution_count": null,
      "outputs": [
        {
          "output_type": "stream",
          "name": "stdout",
          "text": [
            "Epoch 1/50\n",
            "63/63 [==============================] - 11s 144ms/step - loss: 18.2927 - accuracy: 0.8965 - val_loss: 3.2446 - val_accuracy: 0.9750\n",
            "Epoch 2/50\n",
            "63/63 [==============================] - 9s 140ms/step - loss: 7.5124 - accuracy: 0.9465 - val_loss: 7.2225 - val_accuracy: 0.9620\n",
            "Epoch 3/50\n",
            "63/63 [==============================] - 9s 140ms/step - loss: 5.5984 - accuracy: 0.9510 - val_loss: 15.1222 - val_accuracy: 0.9250\n",
            "Epoch 4/50\n",
            "63/63 [==============================] - 9s 138ms/step - loss: 4.9689 - accuracy: 0.9555 - val_loss: 5.7017 - val_accuracy: 0.9710\n",
            "Epoch 5/50\n",
            "63/63 [==============================] - 9s 140ms/step - loss: 5.2498 - accuracy: 0.9625 - val_loss: 5.5589 - val_accuracy: 0.9740\n",
            "Epoch 6/50\n",
            "63/63 [==============================] - 9s 145ms/step - loss: 3.2497 - accuracy: 0.9710 - val_loss: 3.4249 - val_accuracy: 0.9740\n",
            "Epoch 7/50\n",
            "63/63 [==============================] - 9s 140ms/step - loss: 3.8428 - accuracy: 0.9665 - val_loss: 5.3053 - val_accuracy: 0.9680\n",
            "Epoch 8/50\n",
            "63/63 [==============================] - 9s 140ms/step - loss: 2.3348 - accuracy: 0.9760 - val_loss: 12.2199 - val_accuracy: 0.9380\n",
            "Epoch 9/50\n",
            "63/63 [==============================] - 9s 142ms/step - loss: 2.9077 - accuracy: 0.9715 - val_loss: 4.2640 - val_accuracy: 0.9730\n",
            "Epoch 10/50\n",
            "63/63 [==============================] - 9s 147ms/step - loss: 2.5754 - accuracy: 0.9755 - val_loss: 4.1943 - val_accuracy: 0.9760\n",
            "Epoch 11/50\n",
            "63/63 [==============================] - 11s 175ms/step - loss: 2.7126 - accuracy: 0.9720 - val_loss: 5.2445 - val_accuracy: 0.9740\n",
            "Epoch 12/50\n",
            "63/63 [==============================] - 9s 143ms/step - loss: 2.0726 - accuracy: 0.9790 - val_loss: 4.2348 - val_accuracy: 0.9760\n",
            "Epoch 13/50\n",
            "63/63 [==============================] - 9s 144ms/step - loss: 1.8653 - accuracy: 0.9780 - val_loss: 3.8507 - val_accuracy: 0.9810\n",
            "Epoch 14/50\n",
            "63/63 [==============================] - 9s 145ms/step - loss: 2.1815 - accuracy: 0.9745 - val_loss: 5.0819 - val_accuracy: 0.9730\n",
            "Epoch 15/50\n",
            "63/63 [==============================] - 10s 150ms/step - loss: 1.6647 - accuracy: 0.9815 - val_loss: 3.7090 - val_accuracy: 0.9730\n",
            "Epoch 16/50\n",
            "63/63 [==============================] - 9s 145ms/step - loss: 1.5109 - accuracy: 0.9805 - val_loss: 4.1161 - val_accuracy: 0.9730\n",
            "Epoch 17/50\n",
            "63/63 [==============================] - 12s 181ms/step - loss: 1.1727 - accuracy: 0.9845 - val_loss: 2.6562 - val_accuracy: 0.9800\n",
            "Epoch 18/50\n",
            "63/63 [==============================] - 9s 146ms/step - loss: 1.4564 - accuracy: 0.9830 - val_loss: 3.3866 - val_accuracy: 0.9740\n",
            "Epoch 19/50\n",
            "63/63 [==============================] - 10s 148ms/step - loss: 1.2792 - accuracy: 0.9845 - val_loss: 3.3253 - val_accuracy: 0.9760\n",
            "Epoch 20/50\n",
            "63/63 [==============================] - 10s 148ms/step - loss: 1.8065 - accuracy: 0.9825 - val_loss: 3.5628 - val_accuracy: 0.9710\n",
            "Epoch 21/50\n",
            "63/63 [==============================] - 10s 150ms/step - loss: 1.0401 - accuracy: 0.9805 - val_loss: 3.4809 - val_accuracy: 0.9760\n",
            "Epoch 22/50\n",
            "63/63 [==============================] - 12s 182ms/step - loss: 1.5634 - accuracy: 0.9815 - val_loss: 2.5248 - val_accuracy: 0.9770\n",
            "Epoch 23/50\n",
            "63/63 [==============================] - 12s 182ms/step - loss: 1.5548 - accuracy: 0.9810 - val_loss: 2.2050 - val_accuracy: 0.9810\n",
            "Epoch 24/50\n",
            "63/63 [==============================] - 10s 147ms/step - loss: 0.8218 - accuracy: 0.9855 - val_loss: 2.9846 - val_accuracy: 0.9760\n",
            "Epoch 25/50\n",
            "63/63 [==============================] - 10s 150ms/step - loss: 1.2059 - accuracy: 0.9820 - val_loss: 3.3158 - val_accuracy: 0.9780\n",
            "Epoch 26/50\n",
            "63/63 [==============================] - 11s 178ms/step - loss: 1.1155 - accuracy: 0.9810 - val_loss: 2.5772 - val_accuracy: 0.9760\n",
            "Epoch 27/50\n",
            "63/63 [==============================] - 11s 179ms/step - loss: 1.2940 - accuracy: 0.9795 - val_loss: 3.1624 - val_accuracy: 0.9770\n",
            "Epoch 28/50\n",
            "63/63 [==============================] - 10s 148ms/step - loss: 0.7954 - accuracy: 0.9845 - val_loss: 3.2589 - val_accuracy: 0.9800\n",
            "Epoch 29/50\n",
            "63/63 [==============================] - 10s 148ms/step - loss: 0.7823 - accuracy: 0.9870 - val_loss: 3.6820 - val_accuracy: 0.9690\n",
            "Epoch 30/50\n",
            "63/63 [==============================] - 10s 148ms/step - loss: 0.8617 - accuracy: 0.9815 - val_loss: 3.0937 - val_accuracy: 0.9750\n",
            "Epoch 31/50\n",
            "63/63 [==============================] - 10s 153ms/step - loss: 1.0542 - accuracy: 0.9845 - val_loss: 2.6704 - val_accuracy: 0.9780\n",
            "Epoch 32/50\n",
            "63/63 [==============================] - 10s 148ms/step - loss: 0.6506 - accuracy: 0.9900 - val_loss: 2.9243 - val_accuracy: 0.9750\n",
            "Epoch 33/50\n",
            "63/63 [==============================] - 10s 148ms/step - loss: 1.0056 - accuracy: 0.9825 - val_loss: 2.5650 - val_accuracy: 0.9750\n",
            "Epoch 34/50\n",
            "63/63 [==============================] - 10s 153ms/step - loss: 0.7251 - accuracy: 0.9870 - val_loss: 1.7918 - val_accuracy: 0.9820\n",
            "Epoch 35/50\n",
            "63/63 [==============================] - 10s 154ms/step - loss: 0.6886 - accuracy: 0.9880 - val_loss: 1.9342 - val_accuracy: 0.9800\n",
            "Epoch 36/50\n",
            "63/63 [==============================] - 10s 148ms/step - loss: 0.5503 - accuracy: 0.9910 - val_loss: 1.9303 - val_accuracy: 0.9820\n",
            "Epoch 37/50\n",
            "63/63 [==============================] - 10s 150ms/step - loss: 0.9744 - accuracy: 0.9855 - val_loss: 1.8148 - val_accuracy: 0.9790\n",
            "Epoch 38/50\n",
            "63/63 [==============================] - 10s 154ms/step - loss: 0.5980 - accuracy: 0.9900 - val_loss: 1.5845 - val_accuracy: 0.9790\n",
            "Epoch 39/50\n",
            "63/63 [==============================] - 10s 155ms/step - loss: 0.6205 - accuracy: 0.9860 - val_loss: 1.5673 - val_accuracy: 0.9820\n",
            "Epoch 40/50\n",
            "63/63 [==============================] - 10s 155ms/step - loss: 0.6196 - accuracy: 0.9840 - val_loss: 1.7411 - val_accuracy: 0.9770\n",
            "Epoch 41/50\n",
            "63/63 [==============================] - 10s 151ms/step - loss: 0.5748 - accuracy: 0.9850 - val_loss: 2.3548 - val_accuracy: 0.9760\n",
            "Epoch 42/50\n",
            "63/63 [==============================] - 10s 151ms/step - loss: 0.6615 - accuracy: 0.9880 - val_loss: 2.1105 - val_accuracy: 0.9790\n",
            "Epoch 43/50\n",
            "63/63 [==============================] - 10s 151ms/step - loss: 0.4231 - accuracy: 0.9890 - val_loss: 1.9063 - val_accuracy: 0.9750\n",
            "Epoch 44/50\n",
            "63/63 [==============================] - 10s 152ms/step - loss: 0.2927 - accuracy: 0.9930 - val_loss: 1.6090 - val_accuracy: 0.9850\n",
            "Epoch 45/50\n",
            "63/63 [==============================] - 10s 155ms/step - loss: 0.4919 - accuracy: 0.9890 - val_loss: 1.8750 - val_accuracy: 0.9820\n",
            "Epoch 46/50\n",
            "63/63 [==============================] - 10s 150ms/step - loss: 0.4023 - accuracy: 0.9935 - val_loss: 1.8377 - val_accuracy: 0.9780\n",
            "Epoch 47/50\n",
            "63/63 [==============================] - 10s 151ms/step - loss: 0.5804 - accuracy: 0.9865 - val_loss: 1.6909 - val_accuracy: 0.9780\n",
            "Epoch 48/50\n",
            "63/63 [==============================] - 10s 152ms/step - loss: 0.6756 - accuracy: 0.9875 - val_loss: 2.1765 - val_accuracy: 0.9760\n",
            "Epoch 49/50\n",
            "63/63 [==============================] - 10s 153ms/step - loss: 0.3767 - accuracy: 0.9890 - val_loss: 2.0110 - val_accuracy: 0.9730\n",
            "Epoch 50/50\n",
            "63/63 [==============================] - 10s 151ms/step - loss: 0.2673 - accuracy: 0.9920 - val_loss: 2.0995 - val_accuracy: 0.9760\n"
          ]
        }
      ]
    },
    {
      "cell_type": "code",
      "source": [
        "acc = history.history[\"accuracy\"]\n",
        "val_acc = history.history[\"val_accuracy\"]\n",
        "loss = history.history[\"loss\"]\n",
        "val_loss = history.history[\"val_loss\"]\n",
        "epochs = range(1, len(acc) + 1)\n",
        "plt.plot(epochs, acc, \"bo\", label=\"Training Accuracy\")\n",
        "plt.plot(epochs, val_acc, \"b\", label=\"Validation accuracy\")\n",
        "plt.title(\"training and validation accuracy\")\n",
        "plt.legend()\n",
        "plt.figure()\n",
        "plt.plot(epochs, loss, \"bo\", \"Training loss\")\n",
        "plt.plot(epochs, val_loss, \"b\", \"Validation loss\")\n",
        "plt.title(\"Training and validation loss\")\n",
        "plt.legend()\n",
        "plt.show()"
      ],
      "metadata": {
        "colab": {
          "base_uri": "https://localhost:8080/",
          "height": 925
        },
        "outputId": "70e059e5-bc14-4f48-a1f5-b52f464f740a",
        "id": "YffLkgtltZe1"
      },
      "execution_count": null,
      "outputs": [
        {
          "output_type": "stream",
          "name": "stderr",
          "text": [
            "WARNING:matplotlib.legend:No artists with labels found to put in legend.  Note that artists whose label start with an underscore are ignored when legend() is called with no argument.\n"
          ]
        },
        {
          "output_type": "display_data",
          "data": {
            "text/plain": [
              "<Figure size 640x480 with 1 Axes>"
            ],
            "image/png": "[encoded data removed]"
          },
          "metadata": {}
        },
        {
          "output_type": "display_data",
          "data": {
            "text/plain": [
              "<Figure size 640x480 with 1 Axes>"
            ],
            "image/png": "[encoded data removed]"
          },
          "metadata": {}
        }
      ]
    },
    {
      "cell_type": "code",
      "source": [
        "test_model = keras.models.load_model(\"feature_extraction_with_data_augmentation.keras\")\n",
        "test_loss, test_acc = test_model.evaluate(test_dataset)\n",
        "print(f\"Test accuracy: {test_acc:.3f}\")"
      ],
      "metadata": {
        "colab": {
          "base_uri": "https://localhost:8080/"
        },
        "id": "9Qd4mzsvt1Kf",
        "outputId": "5fce9843-f2e0-4657-9432-846e2dc5dfc2"
      },
      "execution_count": null,
      "outputs": [
        {
          "output_type": "stream",
          "name": "stdout",
          "text": [
            "63/63 [==============================] - 6s 88ms/step - loss: 1.9377 - accuracy: 0.9765\n",
            "Test accuracy: 0.976\n"
          ]
        }
      ]
    },
    {
      "cell_type": "markdown",
      "source": [
        "**Listing 8.27 Freezing all layers until the fourth from the last**"
      ],
      "metadata": {
        "id": "llV8enhgunrU"
      }
    },
    {
      "cell_type": "code",
      "source": [
        "conv_base.trainable = True\n",
        "for layer in conv_base.layers[:-4]:\n",
        "    layer.trainable = False"
      ],
      "metadata": {
        "id": "Lbr_ntVYupbA"
      },
      "execution_count": null,
      "outputs": []
    },
    {
      "cell_type": "markdown",
      "source": [
        "**Listing 8.28 Fine-tuning the model**"
      ],
      "metadata": {
        "id": "pO35mFY0uwwf"
      }
    },
    {
      "cell_type": "code",
      "source": [
        "model.compile(loss=\"binary_crossentropy\", optimizer=keras.optimizers.RMSprop(learning_rate=1e-5), metrics=[\"accuracy\"])\n",
        "\n",
        "callbacks = [\n",
        "    keras.callbacks.ModelCheckpoint(\n",
        "        filepath=\"fine_tuning.keras\",\n",
        "        save_best_only=True,\n",
        "        monitor=\"val_loss\")\n",
        "]\n",
        "\n",
        "history = model.fit(\n",
        "    train_dataset,\n",
        "    epochs=30,\n",
        "    validation_data=validation_dataset,\n",
        "    callbacks=callbacks)\n"
      ],
      "metadata": {
        "colab": {
          "base_uri": "https://localhost:8080/"
        },
        "id": "E3nC48mbux1g",
        "outputId": "b9b621ab-f372-48d9-d2f7-56cbfe94c8cc"
      },
      "execution_count": null,
      "outputs": [
        {
          "output_type": "stream",
          "name": "stdout",
          "text": [
            "Epoch 1/30\n",
            "63/63 [==============================] - 14s 164ms/step - loss: 0.4422 - accuracy: 0.9890 - val_loss: 1.9426 - val_accuracy: 0.9760\n",
            "Epoch 2/30\n",
            "63/63 [==============================] - 10s 160ms/step - loss: 0.3561 - accuracy: 0.9930 - val_loss: 1.3550 - val_accuracy: 0.9800\n",
            "Epoch 3/30\n",
            "63/63 [==============================] - 11s 166ms/step - loss: 0.3444 - accuracy: 0.9915 - val_loss: 1.5059 - val_accuracy: 0.9770\n",
            "Epoch 4/30\n",
            "63/63 [==============================] - 12s 189ms/step - loss: 0.3663 - accuracy: 0.9910 - val_loss: 1.4248 - val_accuracy: 0.9800\n",
            "Epoch 5/30\n",
            "63/63 [==============================] - 12s 188ms/step - loss: 0.3045 - accuracy: 0.9915 - val_loss: 1.5087 - val_accuracy: 0.9780\n",
            "Epoch 6/30\n",
            "63/63 [==============================] - 10s 158ms/step - loss: 0.2353 - accuracy: 0.9920 - val_loss: 1.8894 - val_accuracy: 0.9720\n",
            "Epoch 7/30\n",
            "63/63 [==============================] - 10s 160ms/step - loss: 0.2316 - accuracy: 0.9940 - val_loss: 2.1298 - val_accuracy: 0.9720\n",
            "Epoch 8/30\n",
            "63/63 [==============================] - 10s 161ms/step - loss: 0.3064 - accuracy: 0.9910 - val_loss: 1.5953 - val_accuracy: 0.9770\n",
            "Epoch 9/30\n",
            "63/63 [==============================] - 12s 190ms/step - loss: 0.1544 - accuracy: 0.9955 - val_loss: 1.6756 - val_accuracy: 0.9760\n",
            "Epoch 10/30\n",
            "63/63 [==============================] - 11s 159ms/step - loss: 0.2299 - accuracy: 0.9925 - val_loss: 1.3604 - val_accuracy: 0.9800\n",
            "Epoch 11/30\n",
            "63/63 [==============================] - 10s 161ms/step - loss: 0.1200 - accuracy: 0.9970 - val_loss: 1.7666 - val_accuracy: 0.9770\n",
            "Epoch 12/30\n",
            "63/63 [==============================] - 10s 161ms/step - loss: 0.0905 - accuracy: 0.9955 - val_loss: 2.0089 - val_accuracy: 0.9720\n",
            "Epoch 13/30\n",
            "63/63 [==============================] - 10s 163ms/step - loss: 0.1952 - accuracy: 0.9935 - val_loss: 1.5269 - val_accuracy: 0.9770\n",
            "Epoch 14/30\n",
            "63/63 [==============================] - 12s 195ms/step - loss: 0.1598 - accuracy: 0.9925 - val_loss: 1.3167 - val_accuracy: 0.9780\n",
            "Epoch 15/30\n",
            "63/63 [==============================] - 10s 159ms/step - loss: 0.3325 - accuracy: 0.9930 - val_loss: 1.3564 - val_accuracy: 0.9810\n",
            "Epoch 16/30\n",
            "63/63 [==============================] - 10s 162ms/step - loss: 0.1167 - accuracy: 0.9965 - val_loss: 1.5856 - val_accuracy: 0.9770\n",
            "Epoch 17/30\n",
            "63/63 [==============================] - 11s 163ms/step - loss: 0.0860 - accuracy: 0.9960 - val_loss: 1.3817 - val_accuracy: 0.9830\n",
            "Epoch 18/30\n",
            "63/63 [==============================] - 11s 165ms/step - loss: 0.2725 - accuracy: 0.9945 - val_loss: 1.4068 - val_accuracy: 0.9800\n",
            "Epoch 19/30\n",
            "63/63 [==============================] - 11s 169ms/step - loss: 0.0351 - accuracy: 0.9980 - val_loss: 1.2628 - val_accuracy: 0.9790\n",
            "Epoch 20/30\n",
            "63/63 [==============================] - 11s 161ms/step - loss: 0.1270 - accuracy: 0.9940 - val_loss: 1.5458 - val_accuracy: 0.9810\n",
            "Epoch 21/30\n",
            "63/63 [==============================] - 10s 163ms/step - loss: 0.1766 - accuracy: 0.9930 - val_loss: 1.7133 - val_accuracy: 0.9790\n",
            "Epoch 22/30\n",
            "63/63 [==============================] - 11s 165ms/step - loss: 0.0714 - accuracy: 0.9970 - val_loss: 1.4641 - val_accuracy: 0.9840\n",
            "Epoch 23/30\n",
            "63/63 [==============================] - 11s 167ms/step - loss: 0.1842 - accuracy: 0.9925 - val_loss: 1.5228 - val_accuracy: 0.9820\n",
            "Epoch 24/30\n",
            "63/63 [==============================] - 12s 192ms/step - loss: 0.0583 - accuracy: 0.9975 - val_loss: 1.5542 - val_accuracy: 0.9790\n",
            "Epoch 25/30\n",
            "63/63 [==============================] - 10s 160ms/step - loss: 0.1477 - accuracy: 0.9960 - val_loss: 1.7738 - val_accuracy: 0.9770\n",
            "Epoch 26/30\n",
            "63/63 [==============================] - 11s 163ms/step - loss: 0.0651 - accuracy: 0.9975 - val_loss: 1.5996 - val_accuracy: 0.9800\n",
            "Epoch 27/30\n",
            "63/63 [==============================] - 11s 164ms/step - loss: 0.0900 - accuracy: 0.9950 - val_loss: 1.7426 - val_accuracy: 0.9790\n",
            "Epoch 28/30\n",
            "63/63 [==============================] - 11s 165ms/step - loss: 0.0690 - accuracy: 0.9975 - val_loss: 1.6677 - val_accuracy: 0.9800\n",
            "Epoch 29/30\n",
            "63/63 [==============================] - 11s 165ms/step - loss: 0.0950 - accuracy: 0.9970 - val_loss: 1.6671 - val_accuracy: 0.9800\n",
            "Epoch 30/30\n",
            "63/63 [==============================] - 11s 162ms/step - loss: 0.1064 - accuracy: 0.9960 - val_loss: 1.6139 - val_accuracy: 0.9790\n"
          ]
        }
      ]
    },
    {
      "cell_type": "code",
      "source": [
        "model = keras.models.load_model(\"fine_tuning.keras\")\n",
        "test_loss, test_acc = model.evaluate(test_dataset)\n",
        "print(f\"Test accuracy: {test_acc:.3f}\")"
      ],
      "metadata": {
        "colab": {
          "base_uri": "https://localhost:8080/"
        },
        "id": "Elw7WLYdwpHi",
        "outputId": "d8a5abfc-ca41-4776-be45-56d009e6ec7d"
      },
      "execution_count": null,
      "outputs": [
        {
          "output_type": "stream",
          "name": "stdout",
          "text": [
            "63/63 [==============================] - 6s 90ms/step - loss: 1.5838 - accuracy: 0.9775\n",
            "Test accuracy: 0.978\n"
          ]
        }
      ]
    }
  ]
}