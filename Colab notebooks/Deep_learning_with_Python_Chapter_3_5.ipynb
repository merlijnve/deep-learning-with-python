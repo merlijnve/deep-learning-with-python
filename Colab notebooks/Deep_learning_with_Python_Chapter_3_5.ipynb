{
  "nbformat": 4,
  "nbformat_minor": 0,
  "metadata": {
    "colab": {
      "provenance": []
    },
    "kernelspec": {
      "name": "python3",
      "display_name": "Python 3"
    },
    "language_info": {
      "name": "python"
    },
    "accelerator": "GPU",
    "gpuClass": "standard"
  },
  "cells": [
    {
      "cell_type": "markdown",
      "source": [
        "# **3.5 First steps with TensorFlow**"
      ],
      "metadata": {
        "id": "3kPJ_jaotk4M"
      }
    },
    {
      "cell_type": "code",
      "source": [
        "import tensorflow as tf"
      ],
      "metadata": {
        "id": "ORezLH9KtsTr"
      },
      "execution_count": null,
      "outputs": []
    },
    {
      "cell_type": "markdown",
      "source": [
        "**Listing 3.1 All-ones or all-zeros tensors**"
      ],
      "metadata": {
        "id": "EO-deoG0tbEK"
      }
    },
    {
      "cell_type": "code",
      "source": [
        "x = tf.ones(shape=(2, 1))\n",
        "print(x)"
      ],
      "metadata": {
        "colab": {
          "base_uri": "https://localhost:8080/"
        },
        "id": "yX4_s4vBtZy6",
        "outputId": "1f2d59a1-e8ca-4dbe-c466-a117af6a95f1"
      },
      "execution_count": null,
      "outputs": [
        {
          "output_type": "stream",
          "name": "stdout",
          "text": [
            "tf.Tensor(\n",
            "[[1.]\n",
            " [1.]], shape=(2, 1), dtype=float32)\n"
          ]
        }
      ]
    },
    {
      "cell_type": "code",
      "source": [
        "x = tf.zeros(shape=(2,1))\n",
        "print(x)"
      ],
      "metadata": {
        "colab": {
          "base_uri": "https://localhost:8080/"
        },
        "id": "B8pMoTBRt06a",
        "outputId": "ea830e40-ddf0-406e-ab8b-e503bb33d25b"
      },
      "execution_count": null,
      "outputs": [
        {
          "output_type": "stream",
          "name": "stdout",
          "text": [
            "tf.Tensor(\n",
            "[[0.]\n",
            " [0.]], shape=(2, 1), dtype=float32)\n"
          ]
        }
      ]
    },
    {
      "cell_type": "markdown",
      "source": [
        "**Listing 3.2 Random tensors**"
      ],
      "metadata": {
        "id": "LiIvuvHHuC4h"
      }
    },
    {
      "cell_type": "code",
      "source": [
        "x = tf.random.normal(shape=(3,1), mean=0., stddev=1.)\n",
        "print(x)"
      ],
      "metadata": {
        "colab": {
          "base_uri": "https://localhost:8080/"
        },
        "id": "i0DlsAP4uFqR",
        "outputId": "0f299b36-b43e-44fe-96ae-cf18fdfd9a99"
      },
      "execution_count": null,
      "outputs": [
        {
          "output_type": "stream",
          "name": "stdout",
          "text": [
            "tf.Tensor(\n",
            "[[ 0.43577817]\n",
            " [ 0.14235853]\n",
            " [-0.6295156 ]], shape=(3, 1), dtype=float32)\n"
          ]
        }
      ]
    },
    {
      "cell_type": "code",
      "source": [
        "x = tf.random.uniform(shape=(3,1), minval=0., maxval=1.)\n",
        "print(x)"
      ],
      "metadata": {
        "colab": {
          "base_uri": "https://localhost:8080/"
        },
        "id": "0Nj0fU3duOv5",
        "outputId": "36ace981-e3b1-4dcf-e067-4b11db545a21"
      },
      "execution_count": null,
      "outputs": [
        {
          "output_type": "stream",
          "name": "stdout",
          "text": [
            "tf.Tensor(\n",
            "[[0.00959218]\n",
            " [0.38181138]\n",
            " [0.28662324]], shape=(3, 1), dtype=float32)\n"
          ]
        }
      ]
    },
    {
      "cell_type": "markdown",
      "source": [
        "**Listing 3.3/3.4 NumPy arrays are assignable, TensorFlow tensors are not assignable**\n"
      ],
      "metadata": {
        "id": "kigftgMju_zC"
      }
    },
    {
      "cell_type": "code",
      "source": [
        "import numpy as np\n",
        "x = np.ones(shape=(2,2))\n",
        "x[0, 0] = 0."
      ],
      "metadata": {
        "id": "gMDdOlMWvBNZ"
      },
      "execution_count": null,
      "outputs": []
    },
    {
      "cell_type": "code",
      "source": [
        "x = tf.ones(shape=(2, 2))\n",
        "x[0, 0] = 0."
      ],
      "metadata": {
        "colab": {
          "base_uri": "https://localhost:8080/",
          "height": 187
        },
        "id": "cx_net_LvG0Z",
        "outputId": "29c47593-ef8b-4f3f-9233-4f370f0b6184"
      },
      "execution_count": null,
      "outputs": [
        {
          "output_type": "error",
          "ename": "TypeError",
          "evalue": "ignored",
          "traceback": [
            "\u001b[0;31m---------------------------------------------------------------------------\u001b[0m",
            "\u001b[0;31mTypeError\u001b[0m                                 Traceback (most recent call last)",
            "\u001b[0;32m<ipython-input-10-09deea229eff>\u001b[0m in \u001b[0;36m<module>\u001b[0;34m\u001b[0m\n\u001b[1;32m      1\u001b[0m \u001b[0mx\u001b[0m \u001b[0;34m=\u001b[0m \u001b[0mtf\u001b[0m\u001b[0;34m.\u001b[0m\u001b[0mones\u001b[0m\u001b[0;34m(\u001b[0m\u001b[0mshape\u001b[0m\u001b[0;34m=\u001b[0m\u001b[0;34m(\u001b[0m\u001b[0;36m2\u001b[0m\u001b[0;34m,\u001b[0m \u001b[0;36m2\u001b[0m\u001b[0;34m)\u001b[0m\u001b[0;34m)\u001b[0m\u001b[0;34m\u001b[0m\u001b[0;34m\u001b[0m\u001b[0m\n\u001b[0;32m----> 2\u001b[0;31m \u001b[0mx\u001b[0m\u001b[0;34m[\u001b[0m\u001b[0;36m0\u001b[0m\u001b[0;34m,\u001b[0m \u001b[0;36m0\u001b[0m\u001b[0;34m]\u001b[0m \u001b[0;34m=\u001b[0m \u001b[0;36m0.\u001b[0m\u001b[0;34m\u001b[0m\u001b[0;34m\u001b[0m\u001b[0m\n\u001b[0m",
            "\u001b[0;31mTypeError\u001b[0m: 'tensorflow.python.framework.ops.EagerTensor' object does not support item assignment"
          ]
        }
      ]
    },
    {
      "cell_type": "markdown",
      "source": [
        "**Listing 3.5 Creating a TensorFlow variable**"
      ],
      "metadata": {
        "id": "CtDj7Mscvavi"
      }
    },
    {
      "cell_type": "code",
      "source": [
        "v = tf.Variable(initial_value=tf.random.normal(shape=(3,1)))\n",
        "print(v)"
      ],
      "metadata": {
        "colab": {
          "base_uri": "https://localhost:8080/"
        },
        "id": "PeBjaDuzvccA",
        "outputId": "25c922a1-b7c0-49b4-d3ea-78b06be60699"
      },
      "execution_count": null,
      "outputs": [
        {
          "output_type": "stream",
          "name": "stdout",
          "text": [
            "<tf.Variable 'Variable:0' shape=(3, 1) dtype=float32, numpy=\n",
            "array([[1.7627406 ],\n",
            "       [0.11782978],\n",
            "       [0.06732912]], dtype=float32)>\n"
          ]
        }
      ]
    },
    {
      "cell_type": "markdown",
      "source": [
        "**Listing 3.6 Assigning a value to a TensorFlow variable**"
      ],
      "metadata": {
        "id": "_umm2sWsvjdQ"
      }
    },
    {
      "cell_type": "code",
      "source": [
        "v.assign(tf.ones((3,1)))"
      ],
      "metadata": {
        "colab": {
          "base_uri": "https://localhost:8080/"
        },
        "id": "sohJbQiVvqdb",
        "outputId": "281e1a80-feeb-4942-cdb2-3e2d49481620"
      },
      "execution_count": null,
      "outputs": [
        {
          "output_type": "execute_result",
          "data": {
            "text/plain": [
              "<tf.Variable 'UnreadVariable' shape=(3, 1) dtype=float32, numpy=\n",
              "array([[1.],\n",
              "       [1.],\n",
              "       [1.]], dtype=float32)>"
            ]
          },
          "metadata": {},
          "execution_count": 12
        }
      ]
    },
    {
      "cell_type": "markdown",
      "source": [
        "**Listing 3.7 Assigning a value to a subset of a TensorFlow variable**"
      ],
      "metadata": {
        "id": "6vGOyoDLvzXQ"
      }
    },
    {
      "cell_type": "code",
      "source": [
        "v[0,0].assign(3.)"
      ],
      "metadata": {
        "colab": {
          "base_uri": "https://localhost:8080/"
        },
        "id": "nMhnyXEIv0ZJ",
        "outputId": "2df02312-d8d4-4529-e439-a8b286715f17"
      },
      "execution_count": null,
      "outputs": [
        {
          "output_type": "execute_result",
          "data": {
            "text/plain": [
              "<tf.Variable 'UnreadVariable' shape=(3, 1) dtype=float32, numpy=\n",
              "array([[3.],\n",
              "       [1.],\n",
              "       [1.]], dtype=float32)>"
            ]
          },
          "metadata": {},
          "execution_count": 13
        }
      ]
    },
    {
      "cell_type": "markdown",
      "source": [
        "**Listing 3.8 Using assign_add()**"
      ],
      "metadata": {
        "id": "ZN543IP6v-S4"
      }
    },
    {
      "cell_type": "code",
      "source": [
        "v.assign_add(tf.ones((3,1)))"
      ],
      "metadata": {
        "colab": {
          "base_uri": "https://localhost:8080/"
        },
        "id": "hH0OTdpbv_O4",
        "outputId": "e9b3b488-5f9c-4e0a-c700-dff1aa79ef69"
      },
      "execution_count": null,
      "outputs": [
        {
          "output_type": "execute_result",
          "data": {
            "text/plain": [
              "<tf.Variable 'UnreadVariable' shape=(3, 1) dtype=float32, numpy=\n",
              "array([[4.],\n",
              "       [2.],\n",
              "       [2.]], dtype=float32)>"
            ]
          },
          "metadata": {},
          "execution_count": 14
        }
      ]
    },
    {
      "cell_type": "markdown",
      "source": [
        "**Listing 3.9 A few basic math operations**"
      ],
      "metadata": {
        "id": "DOuD6E9jwcKo"
      }
    },
    {
      "cell_type": "code",
      "source": [
        "a = tf.ones((2,2))\n",
        "b = tf.square(a)\n",
        "c = tf.sqrt(a)\n",
        "d = b + c\n",
        "e = tf.matmul(a, b)\n",
        "e *= d\n",
        "print(a, b, c, d, e)"
      ],
      "metadata": {
        "colab": {
          "base_uri": "https://localhost:8080/"
        },
        "id": "y8TUFnEKwc1R",
        "outputId": "a3726e78-9d72-40a4-a27d-c0328d991072"
      },
      "execution_count": null,
      "outputs": [
        {
          "output_type": "stream",
          "name": "stdout",
          "text": [
            "tf.Tensor(\n",
            "[[1. 1.]\n",
            " [1. 1.]], shape=(2, 2), dtype=float32) tf.Tensor(\n",
            "[[1. 1.]\n",
            " [1. 1.]], shape=(2, 2), dtype=float32) tf.Tensor(\n",
            "[[1. 1.]\n",
            " [1. 1.]], shape=(2, 2), dtype=float32) tf.Tensor(\n",
            "[[2. 2.]\n",
            " [2. 2.]], shape=(2, 2), dtype=float32) tf.Tensor(\n",
            "[[4. 4.]\n",
            " [4. 4.]], shape=(2, 2), dtype=float32)\n"
          ]
        }
      ]
    },
    {
      "cell_type": "markdown",
      "source": [
        "\n",
        "**Listing 3.10 Using the GradientTape**"
      ],
      "metadata": {
        "id": "dBrrGOQBxGn6"
      }
    },
    {
      "cell_type": "code",
      "source": [
        "input_var = tf.Variable(initial_value=3.)\n",
        "with tf.GradientTape() as tape:\n",
        "  result = tf.square(input_var)\n",
        "gradient = tape.gradient(result, input_var)\n",
        "print(gradient)"
      ],
      "metadata": {
        "colab": {
          "base_uri": "https://localhost:8080/"
        },
        "id": "JVGJy_lrxI1I",
        "outputId": "5abe8082-5374-4173-b479-b5d8d4b6ca41"
      },
      "execution_count": null,
      "outputs": [
        {
          "output_type": "stream",
          "name": "stdout",
          "text": [
            "tf.Tensor(6.0, shape=(), dtype=float32)\n"
          ]
        }
      ]
    },
    {
      "cell_type": "markdown",
      "source": [
        "**Listing 3.11 Using GradientTape with constant tensor inputs**"
      ],
      "metadata": {
        "id": "jzSZcomT47sA"
      }
    },
    {
      "cell_type": "code",
      "source": [
        "input_const = tf.constant(3.)\n",
        "print(input_const)\n",
        "with tf.GradientTape() as tape:\n",
        "  tape.watch(input_const)\n",
        "  result = tf.square(input_const)\n",
        "gradient = tape.gradient(result, input_const)\n",
        "print(gradient)"
      ],
      "metadata": {
        "colab": {
          "base_uri": "https://localhost:8080/"
        },
        "id": "ZnlcH2py4-Y5",
        "outputId": "aad597f6-7708-4bde-8191-2ff38c530fd6"
      },
      "execution_count": null,
      "outputs": [
        {
          "output_type": "stream",
          "name": "stdout",
          "text": [
            "tf.Tensor(3.0, shape=(), dtype=float32)\n",
            "tf.Tensor(6.0, shape=(), dtype=float32)\n"
          ]
        }
      ]
    },
    {
      "cell_type": "markdown",
      "source": [
        "**Listing 3.12 Using nested gradient tapes to compute second-order gradients**"
      ],
      "metadata": {
        "id": "OE_j71lz7NN2"
      }
    },
    {
      "cell_type": "code",
      "source": [
        "time = tf.Variable(0.)\n",
        "with tf.GradientTape() as outer_tape:\n",
        "  with tf.GradientTape() as inner_tape:\n",
        "    position = 4.9 * time ** 2\n",
        "  speed = inner_tape.gradient(position, time)\n",
        "  print(\"speed:\", speed)\n",
        "acceleration = outer_tape.gradient(speed, time)\n",
        "print(\"acceleration: \", acceleration)"
      ],
      "metadata": {
        "colab": {
          "base_uri": "https://localhost:8080/"
        },
        "id": "IEpod0Ew7MwO",
        "outputId": "364372d3-56bc-41ad-a37b-bfc8b8ba71ee"
      },
      "execution_count": null,
      "outputs": [
        {
          "output_type": "stream",
          "name": "stdout",
          "text": [
            "speed: tf.Tensor(0.0, shape=(), dtype=float32)\n",
            "acceleration:  tf.Tensor(9.8, shape=(), dtype=float32)\n"
          ]
        }
      ]
    },
    {
      "cell_type": "markdown",
      "source": [
        "# **3.5.4 An end-to-end example: A linear classifier in pure TensorFlow**"
      ],
      "metadata": {
        "id": "5bDjgC3u_S_T"
      }
    },
    {
      "cell_type": "markdown",
      "source": [
        "**Creating the variables**"
      ],
      "metadata": {
        "id": "E5rOT8_qIpcB"
      }
    },
    {
      "cell_type": "code",
      "source": [
        "num_samples_per_class = 1000\n",
        "negative_samples = np.random.multivariate_normal(\n",
        "  mean=[0, 3],\n",
        "  cov=[[1, 0.5],[0.5, 1]],\n",
        "  size=num_samples_per_class\n",
        ")\n",
        "positive_samples = np.random.multivariate_normal(\n",
        "    mean=[3, 0],\n",
        "    cov=[[1, 0.5], [0.5,1]],\n",
        "    size=num_samples_per_class\n",
        ")\n",
        "inputs = np.vstack((negative_samples, positive_samples)).astype(np.float32)\n",
        "print(inputs)"
      ],
      "metadata": {
        "colab": {
          "base_uri": "https://localhost:8080/"
        },
        "id": "usQAPi0OCz1f",
        "outputId": "6adcf84b-0bf6-4ba8-9243-d3cbc21e52f0"
      },
      "execution_count": null,
      "outputs": [
        {
          "output_type": "stream",
          "name": "stdout",
          "text": [
            "[[ 1.2524478   2.739178  ]\n",
            " [-0.11978709  3.198828  ]\n",
            " [ 0.17605731  3.8474085 ]\n",
            " ...\n",
            " [ 3.3656993   0.8607354 ]\n",
            " [ 1.4432776  -0.18888892]\n",
            " [ 4.358387    0.754839  ]]\n"
          ]
        }
      ]
    },
    {
      "cell_type": "code",
      "source": [
        "targets = np.vstack((\n",
        "    np.zeros((num_samples_per_class, 1), dtype=\"float32\"),\n",
        "    np.ones((num_samples_per_class, 1), dtype=\"float32\")\n",
        "))"
      ],
      "metadata": {
        "id": "R29mE_YmDsDY"
      },
      "execution_count": null,
      "outputs": []
    },
    {
      "cell_type": "code",
      "source": [
        "import matplotlib.pyplot as plt\n",
        "plt.scatter(inputs[:, 0], inputs[:, 1], c=targets[:, 0])\n",
        "plt.show()"
      ],
      "metadata": {
        "colab": {
          "base_uri": "https://localhost:8080/",
          "height": 265
        },
        "id": "bSkx4R8YEyYC",
        "outputId": "722f0e15-975b-41f8-c3fc-f48c5b306240"
      },
      "execution_count": null,
      "outputs": [
        {
          "output_type": "display_data",
          "data": {
            "text/plain": [
              "<Figure size 432x288 with 1 Axes>"
            ],
            "image/png": "[encoded data removed]"
          },
          "metadata": {
            "needs_background": "light"
          }
        }
      ]
    },
    {
      "cell_type": "code",
      "source": [
        "input_dim = 2\n",
        "output_dim = 1\n",
        "W = tf.Variable(initial_value=tf.random.uniform(shape=(input_dim, output_dim)))\n",
        "b = tf.Variable(initial_value=tf.zeros(shape=(output_dim,)))"
      ],
      "metadata": {
        "id": "qK2MNmdYFeoK"
      },
      "execution_count": null,
      "outputs": []
    },
    {
      "cell_type": "markdown",
      "source": [
        "**Listing 3.18 The forward pass function**"
      ],
      "metadata": {
        "id": "KGaX_CU-IuZx"
      }
    },
    {
      "cell_type": "code",
      "source": [
        "def model(inputs):\n",
        "  return tf.matmul(inputs, W) + b"
      ],
      "metadata": {
        "id": "eaap0-BGIxF5"
      },
      "execution_count": null,
      "outputs": []
    },
    {
      "cell_type": "markdown",
      "source": [
        "**Listing 3.19 The mean squared error loss function**"
      ],
      "metadata": {
        "id": "r8RXuWz7I_pp"
      }
    },
    {
      "cell_type": "code",
      "source": [
        "def square_loss(targets, predictions):\n",
        "  per_sample_losses = tf.square(targets - predictions)\n",
        "  return tf.reduce_mean(per_sample_losses)"
      ],
      "metadata": {
        "id": "mOVsTPeCJBQK"
      },
      "execution_count": null,
      "outputs": []
    },
    {
      "cell_type": "markdown",
      "source": [
        "**Listing 3.20 The training step function**"
      ],
      "metadata": {
        "id": "-V3hwjXiJMqB"
      }
    },
    {
      "cell_type": "code",
      "source": [
        "learning_rate = 0.1\n",
        "\n",
        "def training_step(inputs, targets):\n",
        "  with tf.GradientTape() as tape:\n",
        "    predictions = model(inputs)\n",
        "    loss = square_loss(targets, predictions)\n",
        "  grad_loss_wrt_W, grad_loss_wrt_b = tape.gradient(loss, [W, b])\n",
        "  W.assign_sub(grad_loss_wrt_W * learning_rate)\n",
        "  b.assign_sub(grad_loss_wrt_b * learning_rate)\n",
        "  return loss"
      ],
      "metadata": {
        "id": "xqid94_qJKSa"
      },
      "execution_count": null,
      "outputs": []
    },
    {
      "cell_type": "markdown",
      "source": [
        "**Listing 3.21 The batch training loop**"
      ],
      "metadata": {
        "id": "fKKvHMARTWj-"
      }
    },
    {
      "cell_type": "code",
      "source": [
        "for step in range(40):\n",
        "  loss = training_step(inputs, targets)\n",
        "  print(f\"Loss at step {step}: {loss:.4f}\")"
      ],
      "metadata": {
        "colab": {
          "base_uri": "https://localhost:8080/"
        },
        "id": "Sf2PyyydUBxU",
        "outputId": "e880f439-d39e-4ec8-9948-5c864e13942d"
      },
      "execution_count": null,
      "outputs": [
        {
          "output_type": "stream",
          "name": "stdout",
          "text": [
            "Loss at step 0: 4.4534\n",
            "Loss at step 1: 0.6086\n",
            "Loss at step 2: 0.2011\n",
            "Loss at step 3: 0.1485\n",
            "Loss at step 4: 0.1336\n",
            "Loss at step 5: 0.1235\n",
            "Loss at step 6: 0.1146\n",
            "Loss at step 7: 0.1066\n",
            "Loss at step 8: 0.0992\n",
            "Loss at step 9: 0.0926\n",
            "Loss at step 10: 0.0865\n",
            "Loss at step 11: 0.0810\n",
            "Loss at step 12: 0.0760\n",
            "Loss at step 13: 0.0714\n",
            "Loss at step 14: 0.0672\n",
            "Loss at step 15: 0.0634\n",
            "Loss at step 16: 0.0600\n",
            "Loss at step 17: 0.0568\n",
            "Loss at step 18: 0.0540\n",
            "Loss at step 19: 0.0514\n",
            "Loss at step 20: 0.0490\n",
            "Loss at step 21: 0.0468\n",
            "Loss at step 22: 0.0449\n",
            "Loss at step 23: 0.0431\n",
            "Loss at step 24: 0.0415\n",
            "Loss at step 25: 0.0400\n",
            "Loss at step 26: 0.0386\n",
            "Loss at step 27: 0.0374\n",
            "Loss at step 28: 0.0363\n",
            "Loss at step 29: 0.0352\n",
            "Loss at step 30: 0.0343\n",
            "Loss at step 31: 0.0335\n",
            "Loss at step 32: 0.0327\n",
            "Loss at step 33: 0.0320\n",
            "Loss at step 34: 0.0314\n",
            "Loss at step 35: 0.0308\n",
            "Loss at step 36: 0.0302\n",
            "Loss at step 37: 0.0298\n",
            "Loss at step 38: 0.0293\n",
            "Loss at step 39: 0.0289\n"
          ]
        }
      ]
    },
    {
      "cell_type": "code",
      "source": [
        "predictions = model(inputs)\n",
        "plt.scatter(inputs[:, 0], inputs[:, 1], c=predictions[:, 0] > 0.5)\n",
        "x = np.linspace(-1, 4, 100)\n",
        "y=-W[0]/ W[1]*x+(0.5-b)/W[1]\n",
        "plt.plot(x, y, \"-r\")\n",
        "plt.show()"
      ],
      "metadata": {
        "colab": {
          "base_uri": "https://localhost:8080/",
          "height": 265
        },
        "id": "MGd-mperUhNE",
        "outputId": "ced9567d-721b-4630-a806-23ca0d1ae6b9"
      },
      "execution_count": null,
      "outputs": [
        {
          "output_type": "display_data",
          "data": {
            "text/plain": [
              "<Figure size 432x288 with 1 Axes>"
            ],
            "image/png": "[encoded data removed]"
          },
          "metadata": {
            "needs_background": "light"
          }
        }
      ]
    }
  ]
}